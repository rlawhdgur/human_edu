{
  "cells": [
    {
      "cell_type": "code",
      "execution_count": 1,
      "metadata": {
        "colab": {
          "base_uri": "https://localhost:8080/"
        },
        "id": "HaV6v-M_0uII",
        "outputId": "0f028829-544e-4438-d097-743837616873"
      },
      "outputs": [
        {
          "data": {
            "text/plain": [
              "2"
            ]
          },
          "execution_count": 1,
          "metadata": {},
          "output_type": "execute_result"
        }
      ],
      "source": [
        "1+1"
      ]
    },
    {
      "cell_type": "markdown",
      "metadata": {
        "id": "NqPZx2LA54q-"
      },
      "source": [
        "## 기초문법"
      ]
    },
    {
      "cell_type": "markdown",
      "metadata": {
        "id": "NEaOob7z1Wzn"
      },
      "source": [
        "\n",
        "### 파이썬 확장자명\n",
        "- .py  : 개발용\n",
        "- .ipynb : 분석가, 데이터싸이언티스트, 강의용\n",
        "  + 주피터 노트북, 주피터 랩"
      ]
    },
    {
      "cell_type": "code",
      "execution_count": 38,
      "metadata": {
        "colab": {
          "base_uri": "https://localhost:8080/"
        },
        "id": "PMaw6k7W40pF",
        "outputId": "663adb84-530e-441c-a3cc-c16c7fbe9e02"
      },
      "outputs": [
        {
          "name": "stdout",
          "output_type": "stream",
          "text": [
            "Hello, World\n"
          ]
        }
      ],
      "source": [
        "  print(\"Hello, World\")"
      ]
    },
    {
      "cell_type": "markdown",
      "metadata": {
        "id": "UKUpXxjQ4zD0"
      },
      "source": [
        "## 주석 처리\n",
        "- 한줄 주석 처리\n",
        "- 여러줄 주석 처리"
      ]
    },
    {
      "cell_type": "code",
      "execution_count": 3,
      "metadata": {
        "colab": {
          "base_uri": "https://localhost:8080/"
        },
        "id": "7y8i-8c_4_d2",
        "outputId": "56d9b6bd-d02b-4350-997c-ed3568dad58d"
      },
      "outputs": [
        {
          "name": "stdout",
          "output_type": "stream",
          "text": [
            "Hello, World\n"
          ]
        }
      ],
      "source": [
        "# 한줄 주석 처리, 주석 주석\n",
        "\n",
        "print(\"Hello, World\")"
      ]
    },
    {
      "cell_type": "code",
      "execution_count": 5,
      "metadata": {
        "colab": {
          "base_uri": "https://localhost:8080/"
        },
        "id": "5zf-rnAj5I5d",
        "outputId": "8246c274-aa34-4c72-bde7-41b6b67cf93d"
      },
      "outputs": [
        {
          "name": "stdout",
          "output_type": "stream",
          "text": [
            "Hello, World\n"
          ]
        }
      ],
      "source": [
        "# 여러줄 주석 처리\n",
        "'''\n",
        "abc\n",
        "dec\n",
        "def\n",
        "'''\n",
        "# 또는\n",
        "\"\"\"\n",
        "abc\n",
        "dec\n",
        "def\n",
        "\"\"\"\n",
        "print(\"Hello, World\")"
      ]
    },
    {
      "cell_type": "markdown",
      "metadata": {
        "id": "fmQ_MQXq9G0u"
      },
      "source": [
        "ipynb 파일을 md +\n",
        "이미지 같이 변환 가능\n",
        "==> 노션에서"
      ]
    },
    {
      "cell_type": "markdown",
      "metadata": {
        "id": "CZcOWGN584OG"
      },
      "source": [
        "## 그림"
      ]
    },
    {
      "cell_type": "markdown",
      "metadata": {
        "id": "jT6VFa9V9YPW"
      },
      "source": [
        "## 변수의 종류\n",
        "- 변수의 종류 : 숫자, 문자, 논리(true, false), NULL\n"
      ]
    },
    {
      "cell_type": "code",
      "execution_count": 8,
      "metadata": {
        "colab": {
          "base_uri": "https://localhost:8080/"
        },
        "id": "-iSvoPfM9jc2",
        "outputId": "e1a2cdeb-2c3e-4bd7-ad32-f56a84a8659d"
      },
      "outputs": [
        {
          "name": "stdout",
          "output_type": "stream",
          "text": [
            "1\n",
            "<class 'int'>\n"
          ]
        }
      ],
      "source": [
        "# 정수형\n",
        "num_int = 1\n",
        "print(num_int)\n",
        "print(type(num_int))"
      ]
    },
    {
      "cell_type": "code",
      "execution_count": 9,
      "metadata": {
        "colab": {
          "base_uri": "https://localhost:8080/"
        },
        "id": "aeXKULZy92re",
        "outputId": "ed7b7ea3-baa8-4796-83f0-f7f51076e28f"
      },
      "outputs": [
        {
          "name": "stdout",
          "output_type": "stream",
          "text": [
            "0.2\n",
            "<class 'float'>\n"
          ]
        }
      ],
      "source": [
        "# 실수형\n",
        "num_float = 0.2\n",
        "print(num_float)\n",
        "print(type(num_float))"
      ]
    },
    {
      "cell_type": "code",
      "execution_count": 14,
      "metadata": {
        "colab": {
          "base_uri": "https://localhost:8080/"
        },
        "id": "C-UTnoPd-g-n",
        "outputId": "82f464d3-c06c-4089-b93d-11ca52f16cd9"
      },
      "outputs": [
        {
          "name": "stdout",
          "output_type": "stream",
          "text": [
            "False\n",
            "<class 'bool'>\n"
          ]
        }
      ],
      "source": [
        "# 논리 자료형\n",
        "bool_true = False  # True\n",
        "print(bool_true)\n",
        "print(type(bool_true))"
      ]
    },
    {
      "cell_type": "code",
      "execution_count": 11,
      "metadata": {
        "colab": {
          "base_uri": "https://localhost:8080/"
        },
        "id": "LgkS6316-vLf",
        "outputId": "fc5663e9-6092-460f-f590-a866732dee9e"
      },
      "outputs": [
        {
          "name": "stdout",
          "output_type": "stream",
          "text": [
            "None\n",
            "<class 'NoneType'>\n"
          ]
        }
      ],
      "source": [
        "# NULL 자료형\n",
        "none_x = None\n",
        "print(none_x)\n",
        "print(type(none_x))"
      ]
    },
    {
      "cell_type": "markdown",
      "metadata": {
        "id": "MYVQWoa7_BGY"
      },
      "source": [
        "### 4가지 자료형 : Scalar 자료형\n",
        "- int, float, bool, NoneType\n",
        "- 더는 나눌 수 없는 최소 단위의 자료형\n",
        "  + 이 객체 하나로는 반복문 사용이 불가"
      ]
    },
    {
      "cell_type": "markdown",
      "metadata": {
        "id": "LAw8O3zy_zZP"
      },
      "source": [
        "## 정수형 사칙 연산\n",
        "- 결괏값의 자료형 확인\n",
        "- 특이한 사칙연산자 하나 있음 (나눗셈) \n",
        "  - 나눗셈 : 나눗셈은 float형으로 나옴"
      ]
    },
    {
      "cell_type": "code",
      "execution_count": 43,
      "metadata": {
        "colab": {
          "base_uri": "https://localhost:8080/"
        },
        "id": "i9SdBYQs_6Am",
        "outputId": "cd330a20-5598-4439-8d34-b08905d836fb"
      },
      "outputs": [
        {
          "name": "stdout",
          "output_type": "stream",
          "text": [
            "5\n",
            "<class 'int'>\n",
            "-------------------------\n",
            "2.0\n",
            "<class 'float'>\n"
          ]
        }
      ],
      "source": [
        "a = 3\n",
        "b = 2\n",
        "\n",
        "c = a + b\n",
        "\n",
        "print(c)\n",
        "print(type(c))\n",
        "\n",
        "print(\"-------------------------\")\n",
        "\n",
        "d = 4\n",
        "e = 2\n",
        "print(d / e)\n",
        "print(type(d / e))"
      ]
    },
    {
      "cell_type": "markdown",
      "metadata": {
        "id": "hroypiHeAmNs"
      },
      "source": [
        "## 실수형 사칙 연산\n",
        "- 결괏값의 자료형 확인"
      ]
    },
    {
      "cell_type": "code",
      "execution_count": 19,
      "metadata": {
        "colab": {
          "base_uri": "https://localhost:8080/"
        },
        "id": "l890hewGAqwc",
        "outputId": "c3cdedaf-a191-4f24-a3ed-380963119fb3"
      },
      "outputs": [
        {
          "name": "stdout",
          "output_type": "stream",
          "text": [
            "6.0\n",
            "<class 'float'>\n"
          ]
        }
      ],
      "source": [
        "a = 4.0\n",
        "b = 2.0\n",
        "\n",
        "c = a + b\n",
        "\n",
        "print(c)\n",
        "print(type(c))"
      ]
    },
    {
      "cell_type": "markdown",
      "metadata": {
        "id": "FiG5ZqvlA4re"
      },
      "source": [
        "## 논리형 연산자\n",
        "- AND, OR, NOT(옵션)"
      ]
    },
    {
      "cell_type": "code",
      "execution_count": 24,
      "metadata": {
        "colab": {
          "base_uri": "https://localhost:8080/"
        },
        "id": "zT78Qpi3A_1Q",
        "outputId": "a2239a77-9b2d-4c4e-f5fc-2fc2d23a81fd"
      },
      "outputs": [
        {
          "name": "stdout",
          "output_type": "stream",
          "text": [
            "True\n",
            "False\n",
            "False\n",
            "False\n",
            "-------------------------\n",
            "True\n",
            "True\n",
            "True\n",
            "False\n"
          ]
        }
      ],
      "source": [
        "print(True and True)\n",
        "print(True and False)\n",
        "print(False and True)\n",
        "print(False and False)\n",
        "print(\"-------------------------\") \n",
        "print(True or True)\n",
        "print(True or False)\n",
        "print(False or True)\n",
        "print(False or False)\n",
        "\n"
      ]
    },
    {
      "cell_type": "markdown",
      "metadata": {
        "id": "Iau-biHCBgbp"
      },
      "source": [
        "## 부등호 연산자\n",
        "- # >, <, >=, <="
      ]
    },
    {
      "cell_type": "code",
      "execution_count": 29,
      "metadata": {
        "colab": {
          "base_uri": "https://localhost:8080/"
        },
        "id": "r4xjYPo2Bleh",
        "outputId": "766b1f55-ee9b-454f-de58-7fe754d3fa63"
      },
      "outputs": [
        {
          "name": "stdout",
          "output_type": "stream",
          "text": [
            "True\n",
            "False\n",
            "True\n",
            "False\n",
            "True\n"
          ]
        }
      ],
      "source": [
        "print(4 > 3)\n",
        "print(4 < 3)\n",
        "print(4 >= 3)\n",
        "print(4 <= 3)\n",
        "print(3 <= 3)"
      ]
    },
    {
      "cell_type": "markdown",
      "metadata": {
        "id": "JwWouus2B_PO"
      },
      "source": [
        "## 두개의 값 비교\n",
        "- 입력받아서 True, False가 나오도록 간단한 프로그램 작성\n",
        "- 형변환 배우기\n"
      ]
    },
    {
      "cell_type": "code",
      "execution_count": 33,
      "metadata": {
        "colab": {
          "base_uri": "https://localhost:8080/"
        },
        "id": "TCdd9NDJCGuu",
        "outputId": "8b123593-a650-4b5b-98bd-3241dfd6f41c"
      },
      "outputs": [
        {
          "name": "stdout",
          "output_type": "stream",
          "text": [
            "값을 입력해주세요. 123\n",
            "------------------\n",
            "123\n",
            "<class 'str'>\n"
          ]
        }
      ],
      "source": [
        "var = input(\"값을 입력해주세요. \")\n",
        "print(\"------------------\")\n",
        "print(var)\n",
        "print(type(var))"
      ]
    },
    {
      "cell_type": "code",
      "execution_count": 36,
      "metadata": {
        "colab": {
          "base_uri": "https://localhost:8080/"
        },
        "id": "1sFAMLDzCvHK",
        "outputId": "b3b7842d-c502-42da-8f18-69b4c3a741b8"
      },
      "outputs": [
        {
          "name": "stdout",
          "output_type": "stream",
          "text": [
            "값을 입력해주세요. 123\n",
            "값을 입력해주세요. 456\n",
            "------------------\n",
            "123456\n",
            "값을 입력해주세요. 123\n",
            "값을 입력해주세요. 456\n",
            "------------------\n",
            "579\n"
          ]
        }
      ],
      "source": [
        "var1 = input(\"값을 입력해주세요. \")\n",
        "var2 = input(\"값을 입력해주세요. \")\n",
        "print(\"------------------\")\n",
        "print(var1 + var2)\n",
        "\n",
        "# 형변환\n",
        "var1 = int(input(\"값을 입력해주세요. \"))\n",
        "var2 = int(input(\"값을 입력해주세요. \"))\n",
        "print(\"------------------\")\n",
        "print(var1 + var2)"
      ]
    },
    {
      "cell_type": "code",
      "execution_count": 37,
      "metadata": {
        "colab": {
          "base_uri": "https://localhost:8080/"
        },
        "id": "ixPvO_1oDZbg",
        "outputId": "8e1ded51-3898-443b-b7bd-40281bdc8109"
      },
      "outputs": [
        {
          "name": "stdout",
          "output_type": "stream",
          "text": [
            "False\n"
          ]
        }
      ],
      "source": [
        "print(var1 > var2)"
      ]
    },
    {
      "cell_type": "markdown",
      "metadata": {
        "id": "38F5pGcpxjqt"
      },
      "source": [
        "## 오후 수업의 목표\n",
        "- 파이썬 함수(method) 사용법 익히기\n",
        "- 관련 문서 확인하기"
      ]
    },
    {
      "cell_type": "code",
      "execution_count": 44,
      "metadata": {
        "colab": {
          "base_uri": "https://localhost:8080/"
        },
        "id": "QqTn5zhXx4P_",
        "outputId": "7ddc1002-a4dd-47bc-b31a-30cc422c60e6"
      },
      "outputs": [
        {
          "name": "stdout",
          "output_type": "stream",
          "text": [
            "I love you\n"
          ]
        }
      ],
      "source": [
        "# Capitallize()\n",
        "# 문자열의 첫글자는 대문자로, 나머지는 소문자로 변환한다.\n",
        "\n",
        "text = 'i love YOU'\n",
        "result = text.capitalize()\n",
        "print(result)"
      ]
    },
    {
      "cell_type": "code",
      "execution_count": 48,
      "metadata": {
        "colab": {
          "base_uri": "https://localhost:8080/"
        },
        "id": "P1pBmQt51Hc2",
        "outputId": "c9ad2811-411c-4c52-daa3-1d5b89530321"
      },
      "outputs": [
        {
          "name": "stdout",
          "output_type": "stream",
          "text": [
            "Python is best\n"
          ]
        }
      ],
      "source": [
        "# strip()\n",
        "## 인자로 전달된 문자를 String의 왼쪽과 오른쪽에서 제거합니다.\n",
        "\n",
        "text = '  Python is best '\n",
        "result = text.strip()\n",
        "print(result)"
      ]
    },
    {
      "cell_type": "code",
      "execution_count": 51,
      "metadata": {
        "colab": {
          "base_uri": "https://localhost:8080/"
        },
        "id": "2nDKYriY2Lc-",
        "outputId": "1f9a1cc4-9bac-4c5c-cb16-823eb61a6cf1"
      },
      "outputs": [
        {
          "name": "stdout",
          "output_type": "stream",
          "text": [
            "['월드컵', '라이징', '스타', '조규성(24·전북', '현대)의', '예상', '이적료가', '1년', '사이', '190만', '유로(약', '25억', '9000만원)나', '뛰었다.', '축구', '전문', '매체', '트랜스퍼마크트는', '24일', '2022', '카타르월드컵에', '뛰었던', '주요', '선수', '53명에', '대한', '이적료', '추정치를', '새로', '발표했다.', '한국', '대표팀', '선수', '중에서는', '가나와', '조별리그', '2차전에서', '두', '골을', '터뜨린', '조규성이', '포함됐다.', '조규성은', '월드컵', '이전인', '11월', '예상', '이적료가', '140만', '유로(19억원)였으나', '월드컵이', '끝난', '뒤인', '12월에는', '250만', '유로(34억원)로', '뛰었다.', '1년', '전인', '지난해', '12월에는', '예상', '이적료가', '60만', '유로(8억원)였다.']\n",
            "<class 'list'>\n"
          ]
        }
      ],
      "source": [
        "# split()\n",
        "# \n",
        "\n",
        "text = '월드컵 라이징 스타 조규성(24·전북 현대)의 예상 이적료가 1년 사이 190만 유로(약 25억 9000만원)나 뛰었다. 축구 전문 매체 트랜스퍼마크트는 24일 2022 카타르월드컵에 뛰었던 주요 선수 53명에 대한 이적료 추정치를 새로 발표했다. 한국 대표팀 선수 중에서는 가나와 조별리그 2차전에서 두 골을 터뜨린 조규성이 포함됐다. 조규성은 월드컵 이전인 11월 예상 이적료가 140만 유로(19억원)였으나 월드컵이 끝난 뒤인 12월에는 250만 유로(34억원)로 뛰었다. 1년 전인 지난해 12월에는 예상 이적료가 60만 유로(8억원)였다.'\n",
        "result = text.split(' ')\n",
        "print(result)\n",
        "print(type(result))"
      ]
    },
    {
      "cell_type": "markdown",
      "metadata": {
        "id": "9w2fiZrP5Ar_"
      },
      "source": [
        "## 리스트 자료형\n"
      ]
    },
    {
      "cell_type": "code",
      "execution_count": 62,
      "metadata": {
        "colab": {
          "base_uri": "https://localhost:8080/"
        },
        "id": "twa264Se5yPC",
        "outputId": "88fc6e1d-6a40-4030-bb3c-ecb232ca5eb5"
      },
      "outputs": [
        {
          "name": "stdout",
          "output_type": "stream",
          "text": [
            "[100, 200, 300, 400]\n",
            "[100, 200, 300, 400, [400, 500, 600]]\n"
          ]
        }
      ],
      "source": [
        "# append()\n",
        "# append는 덧붙인다는 뜻으로 괄호( ) 안에 값을 입력하면 새로운 요소를 array 맨 끝에 객체로 추가한다.\n",
        "# append(x)는 리스트의 맨 마지막에 x를 추가하는 함수이다.\n",
        "\n",
        "a = [100, 200, 300]\n",
        "a.append(400)\n",
        "print(a)\n",
        "\n",
        "# 리스트 안에는 어떤 자료형도 추가할 수 있다. 다음 예는 리스트에 다시 리스트를 추가한 결과이다.\n",
        "b = [400, 500, 600]\n",
        "a.append(b)\n",
        "print(a)"
      ]
    },
    {
      "cell_type": "code",
      "execution_count": null,
      "metadata": {
        "id": "HhGGxc-7_VjK"
      },
      "outputs": [],
      "source": [
        "a = [100, 200, 300]\n",
        "b = [400, 500, 600]\n",
        "\n",
        "# 원하는 값 a = [100, 200, 300, 400, 500, 600]\n",
        "# 반복문 활용 (복잡)\n",
        "# extend() 메소드 "
      ]
    },
    {
      "cell_type": "code",
      "execution_count": 61,
      "metadata": {
        "colab": {
          "base_uri": "https://localhost:8080/"
        },
        "id": "78h7m8ZV7CbH",
        "outputId": "d987ed2a-8438-4c32-88fa-b3dfdbead538"
      },
      "outputs": [
        {
          "name": "stdout",
          "output_type": "stream",
          "text": [
            "[100, 200, 300, 400, 500, 600]\n"
          ]
        }
      ],
      "source": [
        "# extend()\n",
        "# extend(x)에서 x에는 리스트만 올 수 있으며 원래의 a 리스트에 x 리스트를 더하게 된다.\n",
        "\n",
        "a = [100, 200, 300]\n",
        "b = [400, 500, 600]\n",
        "\n",
        "a.extend(b)\n",
        "print(a)"
      ]
    },
    {
      "cell_type": "code",
      "execution_count": 63,
      "metadata": {
        "colab": {
          "base_uri": "https://localhost:8080/"
        },
        "id": "PLjLh5T3_xkV",
        "outputId": "d7b159ea-8eda-4f74-a669-799dcd3eca83"
      },
      "outputs": [
        {
          "name": "stdout",
          "output_type": "stream",
          "text": [
            "[100, 150, 200, 300]\n"
          ]
        }
      ],
      "source": [
        "# insert()\n",
        "# insert(a, b)는 리스트의 a번째 위치에 b를 삽입하는 함수이다. \n",
        "# 파이썬은 숫자를 0부터 센다는 것을 반드시 기억하자.\n",
        "\n",
        "a = [100, 200, 300]\n",
        "\n",
        "# 100과 200사이에 150을 추가.\n",
        "\n",
        "a.insert(1, 150)\n",
        "print(a)"
      ]
    },
    {
      "cell_type": "markdown",
      "metadata": {
        "id": "AUvEDsy_Aihp"
      },
      "source": [
        "### 리스트 내 특정 값 삭제"
      ]
    },
    {
      "cell_type": "code",
      "execution_count": 65,
      "metadata": {
        "colab": {
          "base_uri": "https://localhost:8080/"
        },
        "id": "_JNwcZEUAml4",
        "outputId": "773bac99-70b2-4e2c-b1d8-9be01f130ec7"
      },
      "outputs": [
        {
          "name": "stdout",
          "output_type": "stream",
          "text": [
            "[2, 1, 2]\n",
            "[2, 2]\n"
          ]
        }
      ],
      "source": [
        "# remove()\n",
        "# remove(x)는 리스트에서 첫 번째로 나오는 x를 삭제하는 함수이다.\n",
        "\n",
        "a = [1, 2, 1, 2]\n",
        "a.remove(1)\n",
        "\n",
        "print(a)\n",
        "\n",
        "a.remove(1)\n",
        "print(a)"
      ]
    },
    {
      "cell_type": "code",
      "execution_count": 69,
      "metadata": {
        "colab": {
          "base_uri": "https://localhost:8080/"
        },
        "id": "-Uu6AmIWBNH4",
        "outputId": "10fe1177-e19d-41a1-f898-7a7316842577"
      },
      "outputs": [
        {
          "name": "stdout",
          "output_type": "stream",
          "text": [
            "[0, 2, 3, 4, 5, 6, 7, 8, 9]\n",
            "[0, 6, 7, 8, 9]\n",
            "[]\n",
            "[1, 1, 1, 1, 1, 1, 1, 1, 1, 1]\n",
            "[]\n"
          ]
        }
      ],
      "source": [
        "# del()\n",
        "# \n",
        "\n",
        "a = [0,1,2,3,4,5,6,7,8,9]\n",
        "del a[1]      # [x]는 index 번호\n",
        "print(a)\n",
        "\n",
        "# 범위로 삭제\n",
        "del a[1:5]    # [1:5] index값이 1부터 5번째전까지(5미포함)\n",
        "print(a)\n",
        "\n",
        "# 전체 삭제\n",
        "del a[:]\n",
        "print(a)\n",
        "\n",
        "# clear() 메소드\n",
        "a = [1,1,1,1,1,1,1,1,1,1]\n",
        "print(a)\n",
        "\n",
        "a.clear()\n",
        "print(a)"
      ]
    },
    {
      "cell_type": "code",
      "execution_count": 71,
      "metadata": {
        "colab": {
          "base_uri": "https://localhost:8080/"
        },
        "id": "-eyfSZ8wCb7Q",
        "outputId": "c05cb655-ee72-42fd-d594-333063253877"
      },
      "outputs": [
        {
          "name": "stdout",
          "output_type": "stream",
          "text": [
            "2\n"
          ]
        }
      ],
      "source": [
        "# index()\n",
        "# index(x) 함수는 리스트에 x 값이 있으면 x의 인덱스 값을 리턴한다.\n",
        "\n",
        "a = [\"Gold\", \"Gold\", \"Silver\", \"Silver\"]\n",
        "\n",
        "# Silver가 처음 등장하는 인덱스 번호가 궁금하다.\n",
        "print(a.index(\"Silver\"))"
      ]
    },
    {
      "cell_type": "markdown",
      "metadata": {
        "id": "f8COOfPvC1Bx"
      },
      "source": [
        "- 정렬"
      ]
    },
    {
      "cell_type": "code",
      "execution_count": 78,
      "metadata": {
        "colab": {
          "base_uri": "https://localhost:8080/"
        },
        "id": "JsME0q4hC2rK",
        "outputId": "e34c69cc-6598-4d8a-88f2-3dee3a503b44"
      },
      "outputs": [
        {
          "name": "stdout",
          "output_type": "stream",
          "text": [
            "[1, 2, 3, 4, 5, 6]\n",
            "[6, 5, 4, 3, 2, 1]\n",
            "[1, 2, 3, 4, 5, 6]\n"
          ]
        }
      ],
      "source": [
        "# sort()\n",
        "# 오름차순으로 리스트 안에 값을 정렬.\n",
        "\n",
        "a = [1, 6, 5, 2, 3, 4]\n",
        "a.sort()\n",
        "print(a)\n",
        "\n",
        "# 내림차순으로 리스트 안에 값을 정렬.\n",
        "\n",
        "a.sort(reverse=True)\n",
        "print(a)"
      ]
    },
    {
      "cell_type": "code",
      "execution_count": 80,
      "metadata": {
        "colab": {
          "base_uri": "https://localhost:8080/",
          "height": 211
        },
        "id": "AOAp23swEpvq",
        "outputId": "ebab6f77-f2e1-4ec7-ab69-28a9d5781b62"
      },
      "outputs": [
        {
          "ename": "TypeError",
          "evalue": "ignored",
          "output_type": "error",
          "traceback": [
            "\u001b[0;31m---------------------------------------------------------------------------\u001b[0m",
            "\u001b[0;31mTypeError\u001b[0m                                 Traceback (most recent call last)",
            "\u001b[0;32m<ipython-input-80-5d5da8a18333>\u001b[0m in \u001b[0;36m<module>\u001b[0;34m\u001b[0m\n\u001b[1;32m      1\u001b[0m \u001b[0ma\u001b[0m \u001b[0;34m=\u001b[0m \u001b[0;34m[\u001b[0m\u001b[0;36m1\u001b[0m\u001b[0;34m,\u001b[0m \u001b[0;36m6\u001b[0m\u001b[0;34m,\u001b[0m \u001b[0;36m5\u001b[0m\u001b[0;34m,\u001b[0m \u001b[0;36m2\u001b[0m\u001b[0;34m,\u001b[0m \u001b[0;36m3\u001b[0m\u001b[0;34m,\u001b[0m \u001b[0;36m4\u001b[0m\u001b[0;34m,\u001b[0m \u001b[0;34m'a'\u001b[0m\u001b[0;34m]\u001b[0m\u001b[0;34m\u001b[0m\u001b[0;34m\u001b[0m\u001b[0m\n\u001b[0;32m----> 2\u001b[0;31m \u001b[0ma\u001b[0m\u001b[0;34m.\u001b[0m\u001b[0msort\u001b[0m\u001b[0;34m(\u001b[0m\u001b[0;34m)\u001b[0m\u001b[0;34m\u001b[0m\u001b[0;34m\u001b[0m\u001b[0m\n\u001b[0m\u001b[1;32m      3\u001b[0m \u001b[0mprint\u001b[0m\u001b[0;34m(\u001b[0m\u001b[0ma\u001b[0m\u001b[0;34m)\u001b[0m\u001b[0;34m\u001b[0m\u001b[0;34m\u001b[0m\u001b[0m\n",
            "\u001b[0;31mTypeError\u001b[0m: '<' not supported between instances of 'str' and 'int'"
          ]
        }
      ],
      "source": [
        "a = [1, 6, 5, 2, 3, 4, 'a']\n",
        "a.sort()\n",
        "print(a)"
      ]
    },
    {
      "cell_type": "code",
      "execution_count": 79,
      "metadata": {
        "colab": {
          "base_uri": "https://localhost:8080/"
        },
        "id": "VrbijtVWEaww",
        "outputId": "a0f5c592-518f-4f57-933c-de1f67566fcb"
      },
      "outputs": [
        {
          "name": "stdout",
          "output_type": "stream",
          "text": [
            "[4, 3, 2, 5, 6, 1]\n"
          ]
        }
      ],
      "source": [
        "# reverse()\n",
        "# reverse 함수는 리스트를 역순으로 뒤집어 준다. \n",
        "# 이때 리스트 요소들을 순서대로 정렬한 다음 다시 역순으로 정렬하는 것이 아니라 \n",
        "# 그저 현재의 리스트를 그대로 거꾸로 뒤집는다.\n",
        "\n",
        "a = [1, 6, 5, 2, 3, 4]\n",
        "a.reverse()\n",
        "print(a)"
      ]
    },
    {
      "cell_type": "code",
      "execution_count": 82,
      "metadata": {
        "colab": {
          "base_uri": "https://localhost:8080/"
        },
        "id": "pAkF2AWfFFx5",
        "outputId": "2f1a71c2-6b01-4d19-bfb7-c53bd5feefcc"
      },
      "outputs": [
        {
          "name": "stdout",
          "output_type": "stream",
          "text": [
            "1\n",
            "6\n",
            "6\n"
          ]
        }
      ],
      "source": [
        "a = [1, 6, 5, 2, 3, 4]\n",
        "\n",
        "print(min(a))\n",
        "print(max(a))\n",
        "print(len(a))   # length : 길이. len"
      ]
    },
    {
      "cell_type": "markdown",
      "metadata": {
        "id": "MiM4TD1RFkEJ"
      },
      "source": [
        "## Tuple\n",
        "- 튜플 생성"
      ]
    },
    {
      "cell_type": "code",
      "execution_count": 84,
      "metadata": {
        "colab": {
          "base_uri": "https://localhost:8080/"
        },
        "id": "oix7JIDvGHdw",
        "outputId": "4efebd73-d918-4f70-a5a0-414bbc3f358c"
      },
      "outputs": [
        {
          "name": "stdout",
          "output_type": "stream",
          "text": [
            "(0,)\n",
            "(0, 1, 2)\n",
            "(0, 1, 2, 3)\n",
            "--------------------------------\n",
            "<class 'tuple'>\n",
            "<class 'tuple'>\n",
            "<class 'tuple'>\n"
          ]
        }
      ],
      "source": [
        "tuple1 = (0, )\n",
        "tuple2 = (0, 1, 2)\n",
        "tuple3 = 0, 1, 2, 3\n",
        "\n",
        "print(tuple1)\n",
        "print(tuple2)\n",
        "print(tuple3)\n",
        "print(\"--------------------------------\")\n",
        "print(type(tuple1))\n",
        "print(type(tuple2))\n",
        "print(type(tuple3))\n"
      ]
    },
    {
      "cell_type": "code",
      "execution_count": 85,
      "metadata": {
        "colab": {
          "base_uri": "https://localhost:8080/"
        },
        "id": "3VLKXIcwGe5A",
        "outputId": "55d9e34a-4945-4973-ba55-4b8073ff8cb3"
      },
      "outputs": [
        {
          "name": "stdout",
          "output_type": "stream",
          "text": [
            "1\n",
            "<class 'int'>\n"
          ]
        }
      ],
      "source": [
        "tuple0 = (1)\n",
        "print(tuple0)\n",
        "print(type(tuple0))"
      ]
    },
    {
      "cell_type": "code",
      "execution_count": 88,
      "metadata": {
        "colab": {
          "base_uri": "https://localhost:8080/",
          "height": 248
        },
        "id": "mD1nLu2CGtVB",
        "outputId": "e312d481-24f3-4bc7-b065-8d94e2254b44"
      },
      "outputs": [
        {
          "name": "stdout",
          "output_type": "stream",
          "text": [
            "(0, 1, 2, 'A')\n"
          ]
        },
        {
          "ename": "TypeError",
          "evalue": "ignored",
          "output_type": "error",
          "traceback": [
            "\u001b[0;31m---------------------------------------------------------------------------\u001b[0m",
            "\u001b[0;31mTypeError\u001b[0m                                 Traceback (most recent call last)",
            "\u001b[0;32m<ipython-input-88-0385dfcb6e58>\u001b[0m in \u001b[0;36m<module>\u001b[0;34m\u001b[0m\n\u001b[1;32m      5\u001b[0m \u001b[0;31m# print(a)\u001b[0m\u001b[0;34m\u001b[0m\u001b[0;34m\u001b[0m\u001b[0;34m\u001b[0m\u001b[0m\n\u001b[1;32m      6\u001b[0m \u001b[0;34m\u001b[0m\u001b[0m\n\u001b[0;32m----> 7\u001b[0;31m \u001b[0;32mdel\u001b[0m \u001b[0ma\u001b[0m\u001b[0;34m[\u001b[0m\u001b[0;36m3\u001b[0m\u001b[0;34m]\u001b[0m\u001b[0;34m\u001b[0m\u001b[0;34m\u001b[0m\u001b[0m\n\u001b[0m\u001b[1;32m      8\u001b[0m \u001b[0mprint\u001b[0m\u001b[0;34m(\u001b[0m\u001b[0ma\u001b[0m\u001b[0;34m)\u001b[0m\u001b[0;34m\u001b[0m\u001b[0;34m\u001b[0m\u001b[0m\n",
            "\u001b[0;31mTypeError\u001b[0m: 'tuple' object doesn't support item deletion"
          ]
        }
      ],
      "source": [
        "a = (0, 1, 2, 'A')\n",
        "print(a)\n",
        "\n",
        "# a.remove('A')\n",
        "# print(a)\n",
        "\n",
        "del a[3]\n",
        "print(a)\n",
        "\n",
        "# 튜플은 요소 값을 바꿀 수 없다. list와의 차이점."
      ]
    },
    {
      "cell_type": "markdown",
      "metadata": {
        "id": "h0vnkoygIJkq"
      },
      "source": [
        "### 튜플 인덱싱 및 슬라이싱"
      ]
    },
    {
      "cell_type": "code",
      "execution_count": 91,
      "metadata": {
        "colab": {
          "base_uri": "https://localhost:8080/"
        },
        "id": "RsVsrj7fINKK",
        "outputId": "c043d8d6-5e05-4b9a-f144-c712051d8f86"
      },
      "outputs": [
        {
          "name": "stdout",
          "output_type": "stream",
          "text": [
            "2\n",
            "(0, 3, 6, 9)\n"
          ]
        }
      ],
      "source": [
        "tuple0 = (0,1,2,3,4,5,6,7,8,9)\n",
        "\n",
        "print(tuple0[2])\n",
        "\n",
        "# 슬라이싱으로 값을 꺼내오는 것은 가능\n",
        "print(tuple0[::3])"
      ]
    },
    {
      "cell_type": "markdown",
      "metadata": {
        "id": "NIMBZOH6NNHC"
      },
      "source": [
        "## Dictionary\n",
        "- JSON과 유사한 자료형\n"
      ]
    },
    {
      "cell_type": "code",
      "execution_count": 92,
      "metadata": {
        "colab": {
          "base_uri": "https://localhost:8080/"
        },
        "id": "_YIv8P3PNdWi",
        "outputId": "432ccf1d-1152-42c2-9a88-291dc319c419"
      },
      "outputs": [
        {
          "name": "stdout",
          "output_type": "stream",
          "text": [
            "{1: 'one', 2: 'TWO', 3: 'Three'}\n"
          ]
        }
      ],
      "source": [
        "# {key : value}\n",
        "\n",
        "numbers = {1 : 'one', 2 : 'TWO', 3 : 'Three' }\n",
        "print(numbers)"
      ]
    },
    {
      "cell_type": "code",
      "execution_count": 93,
      "metadata": {
        "colab": {
          "base_uri": "https://localhost:8080/"
        },
        "id": "wUdREwfpNxrS",
        "outputId": "c7dd3027-98b9-456e-c421-53d94472b0d4"
      },
      "outputs": [
        {
          "name": "stdout",
          "output_type": "stream",
          "text": [
            "{'한국': '서울', '일본': '동경', '중국': '북경'}\n"
          ]
        }
      ],
      "source": [
        "country_capital = {\"한국\" : \"서울\", \"일본\" : \"동경\", \"중국\" : \"북경\"}\n",
        "print(country_capital)"
      ]
    },
    {
      "cell_type": "code",
      "execution_count": 95,
      "metadata": {
        "colab": {
          "base_uri": "https://localhost:8080/"
        },
        "id": "OJ6q0u5LOFGD",
        "outputId": "8b249ae3-2885-4db6-e3f5-00da916fb368"
      },
      "outputs": [
        {
          "name": "stdout",
          "output_type": "stream",
          "text": [
            "one\n",
            "서울\n"
          ]
        }
      ],
      "source": [
        "print(numbers[1])\n",
        "print(country_capital['한국'])"
      ]
    },
    {
      "cell_type": "markdown",
      "metadata": {
        "id": "DPt3ddlyO_sy"
      },
      "source": [
        "- 값 추가"
      ]
    },
    {
      "cell_type": "code",
      "execution_count": 98,
      "metadata": {
        "colab": {
          "base_uri": "https://localhost:8080/"
        },
        "id": "TFMqoEfXORqF",
        "outputId": "65aaa075-c08a-4fee-b6bc-1d73871e799c"
      },
      "outputs": [
        {
          "name": "stdout",
          "output_type": "stream",
          "text": [
            "{1: 'one', 2: 'TWO', 3: 'Three', 4: 'four'}\n",
            "{'한국': '서울', '일본': '동경', '중국': '북경', '미국': '뉴욕'}\n"
          ]
        }
      ],
      "source": [
        "numbers[4] = 'four'\n",
        "print(numbers)\n",
        "\n",
        "country_capital['미국'] = '뉴욕'\n",
        "print(country_capital)"
      ]
    },
    {
      "cell_type": "markdown",
      "metadata": {
        "id": "iMERp4alOhyk"
      },
      "source": [
        "- 값 수정\n"
      ]
    },
    {
      "cell_type": "code",
      "execution_count": 99,
      "metadata": {
        "colab": {
          "base_uri": "https://localhost:8080/"
        },
        "id": "02tdUP9EOj3S",
        "outputId": "4b3c6f6b-6adb-4243-a2fa-0ba27ef47256"
      },
      "outputs": [
        {
          "name": "stdout",
          "output_type": "stream",
          "text": [
            "{'한국': '서울', '일본': '동경', '중국': '북경', '미국': '워싱턴'}\n"
          ]
        }
      ],
      "source": [
        "country_capital['미국'] = '워싱턴'\n",
        "print(country_capital)"
      ]
    },
    {
      "cell_type": "markdown",
      "metadata": {
        "id": "CQnAwFcpOyRy"
      },
      "source": [
        "- 값 삭제"
      ]
    },
    {
      "cell_type": "code",
      "execution_count": 100,
      "metadata": {
        "colab": {
          "base_uri": "https://localhost:8080/"
        },
        "id": "58SACGv2Ozkq",
        "outputId": "ba8c5812-ffff-416c-dd96-41470aee82a9"
      },
      "outputs": [
        {
          "name": "stdout",
          "output_type": "stream",
          "text": [
            "{'한국': '서울', '일본': '동경', '중국': '북경'}\n"
          ]
        }
      ],
      "source": [
        "del country_capital['미국']\n",
        "print(country_capital)"
      ]
    },
    {
      "cell_type": "markdown",
      "metadata": {
        "id": "6yqSsKk6PEoT"
      },
      "source": [
        "### Dictionary 메소드\n",
        "- keys() : 키 값만 출력\n",
        "- values() : value값만 출력"
      ]
    },
    {
      "cell_type": "code",
      "execution_count": 105,
      "metadata": {
        "colab": {
          "base_uri": "https://localhost:8080/"
        },
        "id": "pUViO5GQPPma",
        "outputId": "af033ed7-5fdd-4396-9f8b-2b3ea6f38ae9"
      },
      "outputs": [
        {
          "name": "stdout",
          "output_type": "stream",
          "text": [
            "dict_keys(['한국', '일본', '중국'])\n",
            "<class 'dict_keys'>\n",
            "------------------------------------\n",
            "['한국', '일본', '중국']\n",
            "<class 'list'>\n"
          ]
        }
      ],
      "source": [
        "result = country_capital.keys()\n",
        "\n",
        "print(result)\n",
        "print(type(result))\n",
        "print(\"------------------------------------\")\n",
        "result = list(country_capital.keys())\n",
        "\n",
        "print(result)\n",
        "print(type(result))"
      ]
    },
    {
      "cell_type": "code",
      "execution_count": 106,
      "metadata": {
        "colab": {
          "base_uri": "https://localhost:8080/"
        },
        "id": "79SZvl6GPvO7",
        "outputId": "b8a3bd9d-4504-40d8-f7e4-94a584ed9d4c"
      },
      "outputs": [
        {
          "name": "stdout",
          "output_type": "stream",
          "text": [
            "dict_values(['서울', '동경', '북경'])\n",
            "<class 'dict_values'>\n",
            "------------------------------------\n",
            "['한국', '일본', '중국']\n",
            "<class 'list'>\n"
          ]
        }
      ],
      "source": [
        "result = country_capital.values()\n",
        "\n",
        "print(result)\n",
        "print(type(result))\n",
        "print(\"------------------------------------\")\n",
        "result = list(country_capital.values())\n",
        "\n",
        "print(result)\n",
        "print(type(result))"
      ]
    },
    {
      "cell_type": "code",
      "execution_count": 108,
      "metadata": {
        "colab": {
          "base_uri": "https://localhost:8080/"
        },
        "id": "lV5ii7qpP7g6",
        "outputId": "40d52b8e-d065-4663-87cf-1a0f2059ed51"
      },
      "outputs": [
        {
          "name": "stdout",
          "output_type": "stream",
          "text": [
            "dict_items([('한국', '서울'), ('일본', '동경'), ('중국', '북경')])\n",
            "<class 'dict_items'>\n",
            "------------------------------------\n",
            "[('한국', '서울'), ('일본', '동경'), ('중국', '북경')]\n",
            "<class 'list'>\n"
          ]
        }
      ],
      "source": [
        "result = country_capital.items()\n",
        "\n",
        "print(result)\n",
        "print(type(result))\n",
        "print(\"------------------------------------\")\n",
        "result = list(country_capital.items())\n",
        "\n",
        "print(result)\n",
        "print(type(result))"
      ]
    },
    {
      "cell_type": "markdown",
      "metadata": {
        "id": "IjfsENBFQG8i"
      },
      "source": [
        "## 조건문"
      ]
    },
    {
      "cell_type": "code",
      "execution_count": 116,
      "metadata": {
        "colab": {
          "base_uri": "https://localhost:8080/"
        },
        "id": "dWG-c7mWQJUp",
        "outputId": "db89a2b9-5488-42a5-94dd-f8a4e3a7adcf"
      },
      "outputs": [
        {
          "name": "stdout",
          "output_type": "stream",
          "text": [
            "점수를 입력해주세요. (0~100)75\n",
            "75\n",
            "C등급\n"
          ]
        }
      ],
      "source": [
        "# \n",
        "\n",
        "score = int(input(\"점수를 입력해주세요. (0~100)\"))\n",
        "print(score)\n",
        "\n",
        "if score >= 90:\n",
        "  # 코드 작성\n",
        "  print('A등급')\n",
        "elif score >=80:\n",
        "  print('B등급')\n",
        "elif score >= 70:\n",
        "  print('C등급')\n",
        "elif score >= 60:\n",
        "  print('D등급')\n",
        "elif score >= 50:\n",
        "  print('E등급')      \n",
        "else:\n",
        "  print('F등급')"
      ]
    },
    {
      "cell_type": "markdown",
      "metadata": {
        "id": "kEPVfyUtR9jz"
      },
      "source": [
        "## 반복문\n",
        "- Hello World 여러번 입력"
      ]
    },
    {
      "cell_type": "code",
      "execution_count": null,
      "metadata": {
        "id": "Sjwlq2shSmhS"
      },
      "outputs": [],
      "source": [
        "# for i in 범위가 정해진 값:"
      ]
    },
    {
      "cell_type": "code",
      "execution_count": 118,
      "metadata": {
        "colab": {
          "base_uri": "https://localhost:8080/"
        },
        "id": "b6wSz4TZR_dS",
        "outputId": "a0823509-8900-4237-ea3e-7c14ddd242d1"
      },
      "outputs": [
        {
          "name": "stdout",
          "output_type": "stream",
          "text": [
            "1 Hello World\n",
            "2 Hello World\n",
            "3 Hello World\n"
          ]
        }
      ],
      "source": [
        "for i in range(3):\n",
        "  # 코드 작성\n",
        "  print(i + 1, \"Hello World\")"
      ]
    },
    {
      "cell_type": "code",
      "execution_count": 119,
      "metadata": {
        "colab": {
          "base_uri": "https://localhost:8080/"
        },
        "id": "d8mTKYKcSvdD",
        "outputId": "55019a04-d902-4f20-9dea-0b6931775a8c"
      },
      "outputs": [
        {
          "name": "stdout",
          "output_type": "stream",
          "text": [
            "H\n",
            "e\n",
            "l\n",
            "l\n",
            "o\n"
          ]
        }
      ],
      "source": [
        "a = \"Hello\"\n",
        "for x in a:\n",
        "  print(x)"
      ]
    },
    {
      "cell_type": "code",
      "execution_count": 122,
      "metadata": {
        "colab": {
          "base_uri": "https://localhost:8080/"
        },
        "id": "J2Wjyvb0S5cy",
        "outputId": "b4bb6a5c-a708-45c1-9fda-6d13716eeb7b"
      },
      "outputs": [
        {
          "name": "stdout",
          "output_type": "stream",
          "text": [
            "100\n",
            "200\n",
            "300\n"
          ]
        }
      ],
      "source": [
        "a = [100, 200, 300]\n",
        "for x in a:\n",
        "  print(x)"
      ]
    },
    {
      "cell_type": "code",
      "execution_count": 123,
      "metadata": {
        "colab": {
          "base_uri": "https://localhost:8080/"
        },
        "id": "CR9tphLLTMhi",
        "outputId": "c72b04b5-bf40-4d40-b754-8bd1ded1cb46"
      },
      "outputs": [
        {
          "name": "stdout",
          "output_type": "stream",
          "text": [
            "100\n",
            "200\n",
            "300\n"
          ]
        }
      ],
      "source": [
        "a = (100, 200, 300)\n",
        "for x in a:\n",
        "  print(x)"
      ]
    },
    {
      "cell_type": "code",
      "execution_count": null,
      "metadata": {
        "id": "fGukejz5TPzi"
      },
      "outputs": [],
      "source": [
        "# for i in 범위가 정해진 값(=시퀀스데이터):"
      ]
    },
    {
      "cell_type": "markdown",
      "metadata": {
        "id": "cFjBiiAnTYIc"
      },
      "source": [
        "## 파이썬 반복문 여러가지 방법\n",
        "- 종류 겁나 많음"
      ]
    },
    {
      "cell_type": "code",
      "execution_count": 126,
      "metadata": {
        "colab": {
          "base_uri": "https://localhost:8080/"
        },
        "id": "vLG7G-A_TeVz",
        "outputId": "58a7ee66-f3e7-409b-8192-fae644c9e514"
      },
      "outputs": [
        {
          "name": "stdout",
          "output_type": "stream",
          "text": [
            "0 0\n",
            "1 1\n",
            "2 2\n"
          ]
        }
      ],
      "source": [
        "a = [0, 1, 2]\n",
        "for idx in a:\n",
        "  print(idx, a[idx])"
      ]
    },
    {
      "cell_type": "code",
      "execution_count": 128,
      "metadata": {
        "colab": {
          "base_uri": "https://localhost:8080/"
        },
        "id": "oWR-MceuUJG1",
        "outputId": "a34ea9e1-6657-4c6d-f678-9aedd93fcdd5"
      },
      "outputs": [
        {
          "name": "stdout",
          "output_type": "stream",
          "text": [
            "0 A\n",
            "1 B\n",
            "2 C\n"
          ]
        }
      ],
      "source": [
        "a = [\"A\", \"B\", \"C\"]\n",
        "\n",
        "num = 0\n",
        "for idx in a:\n",
        "  print(num, idx)\n",
        "  num += 1"
      ]
    },
    {
      "cell_type": "code",
      "execution_count": 127,
      "metadata": {
        "colab": {
          "base_uri": "https://localhost:8080/"
        },
        "id": "UGaYo8QqT9fb",
        "outputId": "b9c279a5-79b5-406a-9432-ccf20acfcbdc"
      },
      "outputs": [
        {
          "name": "stdout",
          "output_type": "stream",
          "text": [
            "0 A\n",
            "1 B\n",
            "2 C\n"
          ]
        }
      ],
      "source": [
        "a = [\"A\", \"B\", \"C\"]\n",
        "for idx, value in enumerate(a):\n",
        "  print(idx, value)"
      ]
    },
    {
      "cell_type": "code",
      "execution_count": 129,
      "metadata": {
        "colab": {
          "base_uri": "https://localhost:8080/"
        },
        "id": "K6cjc1vWUS2o",
        "outputId": "913fbe9c-05e7-4a19-f693-d641a0f59b46"
      },
      "outputs": [
        {
          "name": "stdout",
          "output_type": "stream",
          "text": [
            "A 1\n",
            "B 2\n",
            "C 3\n"
          ]
        }
      ],
      "source": [
        "str_list = [\"A\", \"B\", \"C\"]\n",
        "num_list = [1,2,3]\n",
        "\n",
        "for strs, nums in zip(str_list, num_list):\n",
        "  print(strs, nums)"
      ]
    },
    {
      "cell_type": "markdown",
      "metadata": {
        "id": "RH_HcCngUtoD"
      },
      "source": [
        "### While문"
      ]
    },
    {
      "cell_type": "code",
      "execution_count": 130,
      "metadata": {
        "colab": {
          "base_uri": "https://localhost:8080/"
        },
        "id": "UEzJoHtIUv4b",
        "outputId": "84c26fe0-3b63-473c-e227-d9d744b7a03c"
      },
      "outputs": [
        {
          "name": "stdout",
          "output_type": "stream",
          "text": [
            "Hello World\n",
            "Hello World\n",
            "Hello World\n",
            "Hello World\n",
            "Hello World\n",
            "Hello World\n"
          ]
        }
      ],
      "source": [
        "i = 1\n",
        "while i < 7:\n",
        "  print(\"Hello World\")\n",
        "  i += 1"
      ]
    },
    {
      "cell_type": "markdown",
      "metadata": {
        "id": "mlzIjCarVCch"
      },
      "source": [
        "## 파이썬 다운 문법 : 파이써닉 방식\n",
        "- Pythonic way\n",
        "- for loop 반복문을 한줄로 처리\n",
        "- List Comprehension (리스트 컴프리헨션)"
      ]
    },
    {
      "cell_type": "code",
      "execution_count": null,
      "metadata": {
        "id": "lENBMeyxVNNk"
      },
      "outputs": [],
      "source": [
        "a = ['computer', 'apple', 'human', 'zoo', 'country']\n",
        "\n",
        "# a가 들어간 문자만 리스트에 담기.\n",
        "result_list = []\n",
        "for x in a:\n",
        "  if \"a\" in x:\n",
        "    result_list.append(x)\n",
        "result_list"
      ]
    },
    {
      "cell_type": "code",
      "execution_count": 132,
      "metadata": {
        "colab": {
          "base_uri": "https://localhost:8080/"
        },
        "id": "aCjWHUioVvNp",
        "outputId": "b749db57-4560-4de1-b9a9-8400919b0419"
      },
      "outputs": [
        {
          "data": {
            "text/plain": [
              "['apple', 'human']"
            ]
          },
          "execution_count": 132,
          "metadata": {},
          "output_type": "execute_result"
        }
      ],
      "source": [
        "a = ['computer', 'apple', 'human', 'zoo', 'country']\n",
        "result2 = [x for x in a if \"a\" in x]\n",
        "result2"
      ]
    }
  ],
  "metadata": {
    "colab": {
      "provenance": [],
      "toc_visible": true
    },
    "kernelspec": {
      "display_name": "Python 3",
      "name": "python3"
    },
    "language_info": {
      "name": "python"
    }
  },
  "nbformat": 4,
  "nbformat_minor": 0
}
